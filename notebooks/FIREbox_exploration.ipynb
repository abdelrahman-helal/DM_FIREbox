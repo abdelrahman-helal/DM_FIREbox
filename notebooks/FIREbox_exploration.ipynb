{
 "cells": [
  {
   "cell_type": "markdown",
   "metadata": {},
   "source": [
    "This notebook is an exploration of the FIREbox z=0 data "
   ]
  },
  {
   "cell_type": "code",
   "execution_count": 2,
   "metadata": {},
   "outputs": [],
   "source": [
    "import numpy as np \n",
    "import pandas as pd\n",
    "import plotly.express as px\n",
    "import matplotlib.pyplot as plt"
   ]
  },
  {
   "cell_type": "code",
   "execution_count": 9,
   "metadata": {},
   "outputs": [
    {
     "name": "stderr",
     "output_type": "stream",
     "text": [
      "C:\\Users\\Abdelrahman Helal\\AppData\\Local\\Temp\\ipykernel_20724\\3071557873.py:2: FutureWarning: The 'delim_whitespace' keyword in pd.read_csv is deprecated and will be removed in a future version. Use ``sep='\\s+'`` instead\n",
      "  df = pd.read_csv(data_path,\n"
     ]
    },
    {
     "data": {
      "text/html": [
       "<div>\n",
       "<style scoped>\n",
       "    .dataframe tbody tr th:only-of-type {\n",
       "        vertical-align: middle;\n",
       "    }\n",
       "\n",
       "    .dataframe tbody tr th {\n",
       "        vertical-align: top;\n",
       "    }\n",
       "\n",
       "    .dataframe thead th {\n",
       "        text-align: right;\n",
       "    }\n",
       "</style>\n",
       "<table border=\"1\" class=\"dataframe\">\n",
       "  <thead>\n",
       "    <tr style=\"text-align: right;\">\n",
       "      <th></th>\n",
       "      <th>haloID</th>\n",
       "      <th>hostHaloID</th>\n",
       "      <th>lg_Mhalo</th>\n",
       "      <th>Rhalo</th>\n",
       "      <th>Xc</th>\n",
       "      <th>Yc</th>\n",
       "      <th>Zc</th>\n",
       "      <th>VXc</th>\n",
       "      <th>VYc</th>\n",
       "      <th>VZc</th>\n",
       "      <th>lg_Mstar_&lt;Rhalo</th>\n",
       "      <th>lg_Mstar_&lt;0.1Rhalo</th>\n",
       "      <th>lg_Mstar_&lt;10kpc</th>\n",
       "    </tr>\n",
       "  </thead>\n",
       "  <tbody>\n",
       "    <tr>\n",
       "      <th>0</th>\n",
       "      <td>0</td>\n",
       "      <td>-1</td>\n",
       "      <td>13.078</td>\n",
       "      <td>464.03</td>\n",
       "      <td>14711.058</td>\n",
       "      <td>12986.948</td>\n",
       "      <td>7614.448</td>\n",
       "      <td>-20.50</td>\n",
       "      <td>18.82</td>\n",
       "      <td>4.31</td>\n",
       "      <td>11.779</td>\n",
       "      <td>11.474</td>\n",
       "      <td>11.245</td>\n",
       "    </tr>\n",
       "    <tr>\n",
       "      <th>1</th>\n",
       "      <td>1</td>\n",
       "      <td>-1</td>\n",
       "      <td>12.963</td>\n",
       "      <td>425.03</td>\n",
       "      <td>7908.847</td>\n",
       "      <td>11816.418</td>\n",
       "      <td>6188.743</td>\n",
       "      <td>-19.79</td>\n",
       "      <td>39.51</td>\n",
       "      <td>33.28</td>\n",
       "      <td>11.738</td>\n",
       "      <td>11.565</td>\n",
       "      <td>11.325</td>\n",
       "    </tr>\n",
       "    <tr>\n",
       "      <th>2</th>\n",
       "      <td>2</td>\n",
       "      <td>-1</td>\n",
       "      <td>12.924</td>\n",
       "      <td>412.25</td>\n",
       "      <td>14807.982</td>\n",
       "      <td>14623.561</td>\n",
       "      <td>362.220</td>\n",
       "      <td>81.54</td>\n",
       "      <td>-1.85</td>\n",
       "      <td>51.89</td>\n",
       "      <td>11.809</td>\n",
       "      <td>11.554</td>\n",
       "      <td>11.196</td>\n",
       "    </tr>\n",
       "    <tr>\n",
       "      <th>3</th>\n",
       "      <td>3</td>\n",
       "      <td>-1</td>\n",
       "      <td>12.685</td>\n",
       "      <td>343.34</td>\n",
       "      <td>873.864</td>\n",
       "      <td>14724.276</td>\n",
       "      <td>3167.646</td>\n",
       "      <td>23.02</td>\n",
       "      <td>-48.64</td>\n",
       "      <td>-29.93</td>\n",
       "      <td>11.622</td>\n",
       "      <td>11.518</td>\n",
       "      <td>11.272</td>\n",
       "    </tr>\n",
       "    <tr>\n",
       "      <th>4</th>\n",
       "      <td>4</td>\n",
       "      <td>-1</td>\n",
       "      <td>12.619</td>\n",
       "      <td>326.36</td>\n",
       "      <td>10670.664</td>\n",
       "      <td>14930.470</td>\n",
       "      <td>8777.440</td>\n",
       "      <td>15.68</td>\n",
       "      <td>-28.43</td>\n",
       "      <td>-22.17</td>\n",
       "      <td>11.445</td>\n",
       "      <td>11.231</td>\n",
       "      <td>11.080</td>\n",
       "    </tr>\n",
       "  </tbody>\n",
       "</table>\n",
       "</div>"
      ],
      "text/plain": [
       "   haloID  hostHaloID  lg_Mhalo   Rhalo         Xc         Yc        Zc  \\\n",
       "0       0          -1    13.078  464.03  14711.058  12986.948  7614.448   \n",
       "1       1          -1    12.963  425.03   7908.847  11816.418  6188.743   \n",
       "2       2          -1    12.924  412.25  14807.982  14623.561   362.220   \n",
       "3       3          -1    12.685  343.34    873.864  14724.276  3167.646   \n",
       "4       4          -1    12.619  326.36  10670.664  14930.470  8777.440   \n",
       "\n",
       "     VXc    VYc    VZc  lg_Mstar_<Rhalo  lg_Mstar_<0.1Rhalo  lg_Mstar_<10kpc  \n",
       "0 -20.50  18.82   4.31           11.779              11.474           11.245  \n",
       "1 -19.79  39.51  33.28           11.738              11.565           11.325  \n",
       "2  81.54  -1.85  51.89           11.809              11.554           11.196  \n",
       "3  23.02 -48.64 -29.93           11.622              11.518           11.272  \n",
       "4  15.68 -28.43 -22.17           11.445              11.231           11.080  "
      ]
     },
     "execution_count": 9,
     "metadata": {},
     "output_type": "execute_result"
    }
   ],
   "source": [
    "data_path = 'FIREbox_z=0.txt'\n",
    "df = pd.read_csv(data_path, \n",
    "                 comment='#',  # Skip lines starting with #\n",
    "                 delim_whitespace=True,  # Use whitespace as separator\n",
    "                 skipinitialspace=True)\n",
    "df.head(5)"
   ]
  },
  {
   "cell_type": "code",
   "execution_count": 13,
   "metadata": {},
   "outputs": [
    {
     "name": "stderr",
     "output_type": "stream",
     "text": [
      "c:\\Users\\Abdelrahman Helal\\AppData\\Local\\Programs\\Python\\Python313\\Lib\\site-packages\\pandas\\core\\nanops.py:1016: RuntimeWarning:\n",
      "\n",
      "invalid value encountered in subtract\n",
      "\n",
      "c:\\Users\\Abdelrahman Helal\\AppData\\Local\\Programs\\Python\\Python313\\Lib\\site-packages\\numpy\\lib\\_function_base_impl.py:4653: RuntimeWarning:\n",
      "\n",
      "invalid value encountered in subtract\n",
      "\n",
      "c:\\Users\\Abdelrahman Helal\\AppData\\Local\\Programs\\Python\\Python313\\Lib\\site-packages\\pandas\\core\\nanops.py:1016: RuntimeWarning:\n",
      "\n",
      "invalid value encountered in subtract\n",
      "\n",
      "c:\\Users\\Abdelrahman Helal\\AppData\\Local\\Programs\\Python\\Python313\\Lib\\site-packages\\numpy\\lib\\_function_base_impl.py:4653: RuntimeWarning:\n",
      "\n",
      "invalid value encountered in subtract\n",
      "\n",
      "c:\\Users\\Abdelrahman Helal\\AppData\\Local\\Programs\\Python\\Python313\\Lib\\site-packages\\pandas\\core\\nanops.py:1016: RuntimeWarning:\n",
      "\n",
      "invalid value encountered in subtract\n",
      "\n",
      "c:\\Users\\Abdelrahman Helal\\AppData\\Local\\Programs\\Python\\Python313\\Lib\\site-packages\\numpy\\lib\\_function_base_impl.py:4653: RuntimeWarning:\n",
      "\n",
      "invalid value encountered in subtract\n",
      "\n"
     ]
    },
    {
     "data": {
      "text/html": [
       "<div>\n",
       "<style scoped>\n",
       "    .dataframe tbody tr th:only-of-type {\n",
       "        vertical-align: middle;\n",
       "    }\n",
       "\n",
       "    .dataframe tbody tr th {\n",
       "        vertical-align: top;\n",
       "    }\n",
       "\n",
       "    .dataframe thead th {\n",
       "        text-align: right;\n",
       "    }\n",
       "</style>\n",
       "<table border=\"1\" class=\"dataframe\">\n",
       "  <thead>\n",
       "    <tr style=\"text-align: right;\">\n",
       "      <th></th>\n",
       "      <th>haloID</th>\n",
       "      <th>hostHaloID</th>\n",
       "      <th>lg_Mhalo</th>\n",
       "      <th>Rhalo</th>\n",
       "      <th>Xc</th>\n",
       "      <th>Yc</th>\n",
       "      <th>Zc</th>\n",
       "      <th>VXc</th>\n",
       "      <th>VYc</th>\n",
       "      <th>VZc</th>\n",
       "      <th>lg_Mstar_&lt;Rhalo</th>\n",
       "      <th>lg_Mstar_&lt;0.1Rhalo</th>\n",
       "      <th>lg_Mstar_&lt;10kpc</th>\n",
       "    </tr>\n",
       "  </thead>\n",
       "  <tbody>\n",
       "    <tr>\n",
       "      <th>count</th>\n",
       "      <td>199492.000000</td>\n",
       "      <td>199492.000000</td>\n",
       "      <td>199492.000000</td>\n",
       "      <td>199492.000000</td>\n",
       "      <td>199492.000000</td>\n",
       "      <td>199492.000000</td>\n",
       "      <td>199492.000000</td>\n",
       "      <td>199492.000000</td>\n",
       "      <td>199492.000000</td>\n",
       "      <td>199492.000000</td>\n",
       "      <td>199492.000</td>\n",
       "      <td>199492.000</td>\n",
       "      <td>199492.000</td>\n",
       "    </tr>\n",
       "    <tr>\n",
       "      <th>mean</th>\n",
       "      <td>99745.500000</td>\n",
       "      <td>646.042598</td>\n",
       "      <td>7.856324</td>\n",
       "      <td>9.023523</td>\n",
       "      <td>7879.430678</td>\n",
       "      <td>9030.441201</td>\n",
       "      <td>7911.021982</td>\n",
       "      <td>2.867691</td>\n",
       "      <td>-0.450060</td>\n",
       "      <td>0.200476</td>\n",
       "      <td>-inf</td>\n",
       "      <td>-inf</td>\n",
       "      <td>-inf</td>\n",
       "    </tr>\n",
       "    <tr>\n",
       "      <th>std</th>\n",
       "      <td>57588.524288</td>\n",
       "      <td>5274.009772</td>\n",
       "      <td>0.499316</td>\n",
       "      <td>6.917346</td>\n",
       "      <td>4351.844404</td>\n",
       "      <td>4769.943619</td>\n",
       "      <td>4364.228551</td>\n",
       "      <td>94.959110</td>\n",
       "      <td>112.022548</td>\n",
       "      <td>91.438747</td>\n",
       "      <td>NaN</td>\n",
       "      <td>NaN</td>\n",
       "      <td>NaN</td>\n",
       "    </tr>\n",
       "    <tr>\n",
       "      <th>min</th>\n",
       "      <td>0.000000</td>\n",
       "      <td>-1.000000</td>\n",
       "      <td>6.655000</td>\n",
       "      <td>0.150000</td>\n",
       "      <td>0.114000</td>\n",
       "      <td>0.458000</td>\n",
       "      <td>0.229000</td>\n",
       "      <td>-931.250000</td>\n",
       "      <td>-811.220000</td>\n",
       "      <td>-806.350000</td>\n",
       "      <td>-inf</td>\n",
       "      <td>-inf</td>\n",
       "      <td>-inf</td>\n",
       "    </tr>\n",
       "    <tr>\n",
       "      <th>25%</th>\n",
       "      <td>49872.750000</td>\n",
       "      <td>-1.000000</td>\n",
       "      <td>7.502300</td>\n",
       "      <td>6.400000</td>\n",
       "      <td>4396.476500</td>\n",
       "      <td>4637.375000</td>\n",
       "      <td>4245.071000</td>\n",
       "      <td>-40.940000</td>\n",
       "      <td>-72.560000</td>\n",
       "      <td>-44.040000</td>\n",
       "      <td>NaN</td>\n",
       "      <td>NaN</td>\n",
       "      <td>NaN</td>\n",
       "    </tr>\n",
       "    <tr>\n",
       "      <th>50%</th>\n",
       "      <td>99745.500000</td>\n",
       "      <td>-1.000000</td>\n",
       "      <td>7.708300</td>\n",
       "      <td>7.460000</td>\n",
       "      <td>8093.776500</td>\n",
       "      <td>10820.503500</td>\n",
       "      <td>8180.466000</td>\n",
       "      <td>3.500000</td>\n",
       "      <td>-4.410000</td>\n",
       "      <td>-0.480000</td>\n",
       "      <td>NaN</td>\n",
       "      <td>NaN</td>\n",
       "      <td>NaN</td>\n",
       "    </tr>\n",
       "    <tr>\n",
       "      <th>75%</th>\n",
       "      <td>149618.250000</td>\n",
       "      <td>-1.000000</td>\n",
       "      <td>8.055300</td>\n",
       "      <td>9.650000</td>\n",
       "      <td>11385.269000</td>\n",
       "      <td>13144.455000</td>\n",
       "      <td>11953.583000</td>\n",
       "      <td>48.110000</td>\n",
       "      <td>74.542500</td>\n",
       "      <td>41.700000</td>\n",
       "      <td>NaN</td>\n",
       "      <td>NaN</td>\n",
       "      <td>NaN</td>\n",
       "    </tr>\n",
       "    <tr>\n",
       "      <th>max</th>\n",
       "      <td>199491.000000</td>\n",
       "      <td>198963.000000</td>\n",
       "      <td>13.078000</td>\n",
       "      <td>464.030000</td>\n",
       "      <td>14999.886000</td>\n",
       "      <td>14999.542000</td>\n",
       "      <td>14999.771000</td>\n",
       "      <td>822.150000</td>\n",
       "      <td>908.480000</td>\n",
       "      <td>942.350000</td>\n",
       "      <td>11.809</td>\n",
       "      <td>11.565</td>\n",
       "      <td>11.325</td>\n",
       "    </tr>\n",
       "  </tbody>\n",
       "</table>\n",
       "</div>"
      ],
      "text/plain": [
       "              haloID     hostHaloID       lg_Mhalo          Rhalo  \\\n",
       "count  199492.000000  199492.000000  199492.000000  199492.000000   \n",
       "mean    99745.500000     646.042598       7.856324       9.023523   \n",
       "std     57588.524288    5274.009772       0.499316       6.917346   \n",
       "min         0.000000      -1.000000       6.655000       0.150000   \n",
       "25%     49872.750000      -1.000000       7.502300       6.400000   \n",
       "50%     99745.500000      -1.000000       7.708300       7.460000   \n",
       "75%    149618.250000      -1.000000       8.055300       9.650000   \n",
       "max    199491.000000  198963.000000      13.078000     464.030000   \n",
       "\n",
       "                  Xc             Yc             Zc            VXc  \\\n",
       "count  199492.000000  199492.000000  199492.000000  199492.000000   \n",
       "mean     7879.430678    9030.441201    7911.021982       2.867691   \n",
       "std      4351.844404    4769.943619    4364.228551      94.959110   \n",
       "min         0.114000       0.458000       0.229000    -931.250000   \n",
       "25%      4396.476500    4637.375000    4245.071000     -40.940000   \n",
       "50%      8093.776500   10820.503500    8180.466000       3.500000   \n",
       "75%     11385.269000   13144.455000   11953.583000      48.110000   \n",
       "max     14999.886000   14999.542000   14999.771000     822.150000   \n",
       "\n",
       "                 VYc            VZc  lg_Mstar_<Rhalo  lg_Mstar_<0.1Rhalo  \\\n",
       "count  199492.000000  199492.000000       199492.000          199492.000   \n",
       "mean       -0.450060       0.200476             -inf                -inf   \n",
       "std       112.022548      91.438747              NaN                 NaN   \n",
       "min      -811.220000    -806.350000             -inf                -inf   \n",
       "25%       -72.560000     -44.040000              NaN                 NaN   \n",
       "50%        -4.410000      -0.480000              NaN                 NaN   \n",
       "75%        74.542500      41.700000              NaN                 NaN   \n",
       "max       908.480000     942.350000           11.809              11.565   \n",
       "\n",
       "       lg_Mstar_<10kpc  \n",
       "count       199492.000  \n",
       "mean              -inf  \n",
       "std                NaN  \n",
       "min               -inf  \n",
       "25%                NaN  \n",
       "50%                NaN  \n",
       "75%                NaN  \n",
       "max             11.325  "
      ]
     },
     "execution_count": 13,
     "metadata": {},
     "output_type": "execute_result"
    }
   ],
   "source": [
    "df.describe()"
   ]
  },
  {
   "cell_type": "code",
   "execution_count": 10,
   "metadata": {},
   "outputs": [
    {
     "data": {
      "text/plain": [
       "Text(0, 0.5, 'lg_Mhalo')"
      ]
     },
     "execution_count": 10,
     "metadata": {},
     "output_type": "execute_result"
    },
    {
     "data": {
      "image/png": "[encoded data removed]",
      "text/plain": [
       "<Figure size 1000x600 with 1 Axes>"
      ]
     },
     "metadata": {},
     "output_type": "display_data"
    }
   ],
   "source": [
    "plt.figure(figsize=(10, 6))\n",
    "plt.scatter(df['lg_Mstar_<Rhalo'], df['lg_Mhalo'], \n",
    "            alpha=0.6)\n",
    "plt.xlabel('lg_Mstar_<Rhalo')\n",
    "plt.ylabel('lg_Mhalo')\n",
    "\n",
    "\n"
   ]
  },
  {
   "cell_type": "code",
   "execution_count": 14,
   "metadata": {},
   "outputs": [
    {
     "data": {
      "application/vnd.plotly.v1+json": {
       "config": {
        "plotlyServerURL": "https://plot.ly"
       },
       "data": [
        {
         "hovertemplate": "Xc=%{x}<br>Yc=%{y}<br>Zc=%{z}<br>lg_Mhalo=%{marker.size}<extra></extra>",
         "legendgroup": "",
         "marker": {
          "color": "#636efa",
          "size": {
           "bdata": "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",
           "dtype": "f8"
          },
          "sizemode": "area",
          "sizeref": 0.032695,
          "symbol": "circle"
         },
         "mode": "markers",
         "name": "",
         "scene": "scene",
         "showlegend": false,
         "type": "scatter3d",
         "x": {
          "bdata": "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",
          "dtype": "f8"
         },
         "y": {
          "bdata": "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",
          "dtype": "f8"
         },
         "z": {
          "bdata": "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",
          "dtype": "f8"
         }
        }
       ],
       "layout": {
        "legend": {
         "itemsizing": "constant",
         "tracegroupgap": 0
        },
        "margin": {
         "t": 60
        },
        "scene": {
         "domain": {
          "x": [
           0,
           1
          ],
          "y": [
           0,
           1
          ]
         },
         "xaxis": {
          "title": {
           "text": "Xc"
          }
         },
         "yaxis": {
          "title": {
           "text": "Yc"
          }
         },
         "zaxis": {
          "title": {
           "text": "Zc"
          }
         }
        },
        "template": {
         "data": {
          "bar": [
           {
            "error_x": {
             "color": "#2a3f5f"
            },
            "error_y": {
             "color": "#2a3f5f"
            },
            "marker": {
             "line": {
              "color": "#E5ECF6",
              "width": 0.5
             },
             "pattern": {
              "fillmode": "overlay",
              "size": 10,
              "solidity": 0.2
             }
            },
            "type": "bar"
           }
          ],
          "barpolar": [
           {
            "marker": {
             "line": {
              "color": "#E5ECF6",
              "width": 0.5
             },
             "pattern": {
              "fillmode": "overlay",
              "size": 10,
              "solidity": 0.2
             }
            },
            "type": "barpolar"
           }
          ],
          "carpet": [
           {
            "aaxis": {
             "endlinecolor": "#2a3f5f",
             "gridcolor": "white",
             "linecolor": "white",
             "minorgridcolor": "white",
             "startlinecolor": "#2a3f5f"
            },
            "baxis": {
             "endlinecolor": "#2a3f5f",
             "gridcolor": "white",
             "linecolor": "white",
             "minorgridcolor": "white",
             "startlinecolor": "#2a3f5f"
            },
            "type": "carpet"
           }
          ],
          "choropleth": [
           {
            "colorbar": {
             "outlinewidth": 0,
             "ticks": ""
            },
            "type": "choropleth"
           }
          ],
          "contour": [
           {
            "colorbar": {
             "outlinewidth": 0,
             "ticks": ""
            },
            "colorscale": [
             [
              0,
              "#0d0887"
             ],
             [
              0.1111111111111111,
              "#46039f"
             ],
             [
              0.2222222222222222,
              "#7201a8"
             ],
             [
              0.3333333333333333,
              "#9c179e"
             ],
             [
              0.4444444444444444,
              "#bd3786"
             ],
             [
              0.5555555555555556,
              "#d8576b"
             ],
             [
              0.6666666666666666,
              "#ed7953"
             ],
             [
              0.7777777777777778,
              "#fb9f3a"
             ],
             [
              0.8888888888888888,
              "#fdca26"
             ],
             [
              1,
              "#f0f921"
             ]
            ],
            "type": "contour"
           }
          ],
          "contourcarpet": [
           {
            "colorbar": {
             "outlinewidth": 0,
             "ticks": ""
            },
            "type": "contourcarpet"
           }
          ],
          "heatmap": [
           {
            "colorbar": {
             "outlinewidth": 0,
             "ticks": ""
            },
            "colorscale": [
             [
              0,
              "#0d0887"
             ],
             [
              0.1111111111111111,
              "#46039f"
             ],
             [
              0.2222222222222222,
              "#7201a8"
             ],
             [
              0.3333333333333333,
              "#9c179e"
             ],
             [
              0.4444444444444444,
              "#bd3786"
             ],
             [
              0.5555555555555556,
              "#d8576b"
             ],
             [
              0.6666666666666666,
              "#ed7953"
             ],
             [
              0.7777777777777778,
              "#fb9f3a"
             ],
             [
              0.8888888888888888,
              "#fdca26"
             ],
             [
              1,
              "#f0f921"
             ]
            ],
            "type": "heatmap"
           }
          ],
          "histogram": [
           {
            "marker": {
             "pattern": {
              "fillmode": "overlay",
              "size": 10,
              "solidity": 0.2
             }
            },
            "type": "histogram"
           }
          ],
          "histogram2d": [
           {
            "colorbar": {
             "outlinewidth": 0,
             "ticks": ""
            },
            "colorscale": [
             [
              0,
              "#0d0887"
             ],
             [
              0.1111111111111111,
              "#46039f"
             ],
             [
              0.2222222222222222,
              "#7201a8"
             ],
             [
              0.3333333333333333,
              "#9c179e"
             ],
             [
              0.4444444444444444,
              "#bd3786"
             ],
             [
              0.5555555555555556,
              "#d8576b"
             ],
             [
              0.6666666666666666,
              "#ed7953"
             ],
             [
              0.7777777777777778,
              "#fb9f3a"
             ],
             [
              0.8888888888888888,
              "#fdca26"
             ],
             [
              1,
              "#f0f921"
             ]
            ],
            "type": "histogram2d"
           }
          ],
          "histogram2dcontour": [
           {
            "colorbar": {
             "outlinewidth": 0,
             "ticks": ""
            },
            "colorscale": [
             [
              0,
              "#0d0887"
             ],
             [
              0.1111111111111111,
              "#46039f"
             ],
             [
              0.2222222222222222,
              "#7201a8"
             ],
             [
              0.3333333333333333,
              "#9c179e"
             ],
             [
              0.4444444444444444,
              "#bd3786"
             ],
             [
              0.5555555555555556,
              "#d8576b"
             ],
             [
              0.6666666666666666,
              "#ed7953"
             ],
             [
              0.7777777777777778,
              "#fb9f3a"
             ],
             [
              0.8888888888888888,
              "#fdca26"
             ],
             [
              1,
              "#f0f921"
             ]
            ],
            "type": "histogram2dcontour"
           }
          ],
          "mesh3d": [
           {
            "colorbar": {
             "outlinewidth": 0,
             "ticks": ""
            },
            "type": "mesh3d"
           }
          ],
          "parcoords": [
           {
            "line": {
             "colorbar": {
              "outlinewidth": 0,
              "ticks": ""
             }
            },
            "type": "parcoords"
           }
          ],
          "pie": [
           {
            "automargin": true,
            "type": "pie"
           }
          ],
          "scatter": [
           {
            "fillpattern": {
             "fillmode": "overlay",
             "size": 10,
             "solidity": 0.2
            },
            "type": "scatter"
           }
          ],
          "scatter3d": [
           {
            "line": {
             "colorbar": {
              "outlinewidth": 0,
              "ticks": ""
             }
            },
            "marker": {
             "colorbar": {
              "outlinewidth": 0,
              "ticks": ""
             }
            },
            "type": "scatter3d"
           }
          ],
          "scattercarpet": [
           {
            "marker": {
             "colorbar": {
              "outlinewidth": 0,
              "ticks": ""
             }
            },
            "type": "scattercarpet"
           }
          ],
          "scattergeo": [
           {
            "marker": {
             "colorbar": {
              "outlinewidth": 0,
              "ticks": ""
             }
            },
            "type": "scattergeo"
           }
          ],
          "scattergl": [
           {
            "marker": {
             "colorbar": {
              "outlinewidth": 0,
              "ticks": ""
             }
            },
            "type": "scattergl"
           }
          ],
          "scattermap": [
           {
            "marker": {
             "colorbar": {
              "outlinewidth": 0,
              "ticks": ""
             }
            },
            "type": "scattermap"
           }
          ],
          "scattermapbox": [
           {
            "marker": {
             "colorbar": {
              "outlinewidth": 0,
              "ticks": ""
             }
            },
            "type": "scattermapbox"
           }
          ],
          "scatterpolar": [
           {
            "marker": {
             "colorbar": {
              "outlinewidth": 0,
              "ticks": ""
             }
            },
            "type": "scatterpolar"
           }
          ],
          "scatterpolargl": [
           {
            "marker": {
             "colorbar": {
              "outlinewidth": 0,
              "ticks": ""
             }
            },
            "type": "scatterpolargl"
           }
          ],
          "scatterternary": [
           {
            "marker": {
             "colorbar": {
              "outlinewidth": 0,
              "ticks": ""
             }
            },
            "type": "scatterternary"
           }
          ],
          "surface": [
           {
            "colorbar": {
             "outlinewidth": 0,
             "ticks": ""
            },
            "colorscale": [
             [
              0,
              "#0d0887"
             ],
             [
              0.1111111111111111,
              "#46039f"
             ],
             [
              0.2222222222222222,
              "#7201a8"
             ],
             [
              0.3333333333333333,
              "#9c179e"
             ],
             [
              0.4444444444444444,
              "#bd3786"
             ],
             [
              0.5555555555555556,
              "#d8576b"
             ],
             [
              0.6666666666666666,
              "#ed7953"
             ],
             [
              0.7777777777777778,
              "#fb9f3a"
             ],
             [
              0.8888888888888888,
              "#fdca26"
             ],
             [
              1,
              "#f0f921"
             ]
            ],
            "type": "surface"
           }
          ],
          "table": [
           {
            "cells": {
             "fill": {
              "color": "#EBF0F8"
             },
             "line": {
              "color": "white"
             }
            },
            "header": {
             "fill": {
              "color": "#C8D4E3"
             },
             "line": {
              "color": "white"
             }
            },
            "type": "table"
           }
          ]
         },
         "layout": {
          "annotationdefaults": {
           "arrowcolor": "#2a3f5f",
           "arrowhead": 0,
           "arrowwidth": 1
          },
          "autotypenumbers": "strict",
          "coloraxis": {
           "colorbar": {
            "outlinewidth": 0,
            "ticks": ""
           }
          },
          "colorscale": {
           "diverging": [
            [
             0,
             "#8e0152"
            ],
            [
             0.1,
             "#c51b7d"
            ],
            [
             0.2,
             "#de77ae"
            ],
            [
             0.3,
             "#f1b6da"
            ],
            [
             0.4,
             "#fde0ef"
            ],
            [
             0.5,
             "#f7f7f7"
            ],
            [
             0.6,
             "#e6f5d0"
            ],
            [
             0.7,
             "#b8e186"
            ],
            [
             0.8,
             "#7fbc41"
            ],
            [
             0.9,
             "#4d9221"
            ],
            [
             1,
             "#276419"
            ]
           ],
           "sequential": [
            [
             0,
             "#0d0887"
            ],
            [
             0.1111111111111111,
             "#46039f"
            ],
            [
             0.2222222222222222,
             "#7201a8"
            ],
            [
             0.3333333333333333,
             "#9c179e"
            ],
            [
             0.4444444444444444,
             "#bd3786"
            ],
            [
             0.5555555555555556,
             "#d8576b"
            ],
            [
             0.6666666666666666,
             "#ed7953"
            ],
            [
             0.7777777777777778,
             "#fb9f3a"
            ],
            [
             0.8888888888888888,
             "#fdca26"
            ],
            [
             1,
             "#f0f921"
            ]
           ],
           "sequentialminus": [
            [
             0,
             "#0d0887"
            ],
            [
             0.1111111111111111,
             "#46039f"
            ],
            [
             0.2222222222222222,
             "#7201a8"
            ],
            [
             0.3333333333333333,
             "#9c179e"
            ],
            [
             0.4444444444444444,
             "#bd3786"
            ],
            [
             0.5555555555555556,
             "#d8576b"
            ],
            [
             0.6666666666666666,
             "#ed7953"
            ],
            [
             0.7777777777777778,
             "#fb9f3a"
            ],
            [
             0.8888888888888888,
             "#fdca26"
            ],
            [
             1,
             "#f0f921"
            ]
           ]
          },
          "colorway": [
           "#636efa",
           "#EF553B",
           "#00cc96",
           "#ab63fa",
           "#FFA15A",
           "#19d3f3",
           "#FF6692",
           "#B6E880",
           "#FF97FF",
           "#FECB52"
          ],
          "font": {
           "color": "#2a3f5f"
          },
          "geo": {
           "bgcolor": "white",
           "lakecolor": "white",
           "landcolor": "#E5ECF6",
           "showlakes": true,
           "showland": true,
           "subunitcolor": "white"
          },
          "hoverlabel": {
           "align": "left"
          },
          "hovermode": "closest",
          "mapbox": {
           "style": "light"
          },
          "paper_bgcolor": "white",
          "plot_bgcolor": "#E5ECF6",
          "polar": {
           "angularaxis": {
            "gridcolor": "white",
            "linecolor": "white",
            "ticks": ""
           },
           "bgcolor": "#E5ECF6",
           "radialaxis": {
            "gridcolor": "white",
            "linecolor": "white",
            "ticks": ""
           }
          },
          "scene": {
           "xaxis": {
            "backgroundcolor": "#E5ECF6",
            "gridcolor": "white",
            "gridwidth": 2,
            "linecolor": "white",
            "showbackground": true,
            "ticks": "",
            "zerolinecolor": "white"
           },
           "yaxis": {
            "backgroundcolor": "#E5ECF6",
            "gridcolor": "white",
            "gridwidth": 2,
            "linecolor": "white",
            "showbackground": true,
            "ticks": "",
            "zerolinecolor": "white"
           },
           "zaxis": {
            "backgroundcolor": "#E5ECF6",
            "gridcolor": "white",
            "gridwidth": 2,
            "linecolor": "white",
            "showbackground": true,
            "ticks": "",
            "zerolinecolor": "white"
           }
          },
          "shapedefaults": {
           "line": {
            "color": "#2a3f5f"
           }
          },
          "ternary": {
           "aaxis": {
            "gridcolor": "white",
            "linecolor": "white",
            "ticks": ""
           },
           "baxis": {
            "gridcolor": "white",
            "linecolor": "white",
            "ticks": ""
           },
           "bgcolor": "#E5ECF6",
           "caxis": {
            "gridcolor": "white",
            "linecolor": "white",
            "ticks": ""
           }
          },
          "title": {
           "x": 0.05
          },
          "xaxis": {
           "automargin": true,
           "gridcolor": "white",
           "linecolor": "white",
           "ticks": "",
           "title": {
            "standoff": 15
           },
           "zerolinecolor": "white",
           "zerolinewidth": 2
          },
          "yaxis": {
           "automargin": true,
           "gridcolor": "white",
           "linecolor": "white",
           "ticks": "",
           "title": {
            "standoff": 15
           },
           "zerolinecolor": "white",
           "zerolinewidth": 2
          }
         }
        }
       }
      }
     },
     "metadata": {},
     "output_type": "display_data"
    }
   ],
   "source": [
    "fig = px.scatter_3d(df[:1000], x='Xc', y='Yc', z='Zc', size='lg_Mhalo')\n",
    "fig.show()\n"
   ]
  },
  {
   "cell_type": "code",
   "execution_count": null,
   "metadata": {},
   "outputs": [],
   "source": []
  }
 ],
 "metadata": {
  "kernelspec": {
   "display_name": "Python 3",
   "language": "python",
   "name": "python3"
  },
  "language_info": {
   "codemirror_mode": {
    "name": "ipython",
    "version": 3
   },
   "file_extension": ".py",
   "mimetype": "text/x-python",
   "name": "python",
   "nbconvert_exporter": "python",
   "pygments_lexer": "ipython3",
   "version": "3.13.3"
  }
 },
 "nbformat": 4,
 "nbformat_minor": 2
}
